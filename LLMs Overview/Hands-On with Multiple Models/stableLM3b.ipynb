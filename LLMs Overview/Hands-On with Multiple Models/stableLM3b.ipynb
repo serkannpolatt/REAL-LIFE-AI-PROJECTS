{
 "cells": [
  {
   "cell_type": "code",
   "execution_count": 1,
   "metadata": {
    "execution": {
     "iopub.execute_input": "2023-10-04T12:45:55.271584Z",
     "iopub.status.busy": "2023-10-04T12:45:55.271269Z",
     "iopub.status.idle": "2023-10-04T12:46:04.405820Z",
     "shell.execute_reply": "2023-10-04T12:46:04.404659Z",
     "shell.execute_reply.started": "2023-10-04T12:45:55.271555Z"
    },
    "trusted": true
   },
   "outputs": [],
   "source": [
    "!pip install -q transformers accelerate"
   ]
  },
  {
   "cell_type": "code",
   "execution_count": 2,
   "metadata": {
    "execution": {
     "iopub.execute_input": "2023-10-04T12:46:27.449767Z",
     "iopub.status.busy": "2023-10-04T12:46:27.449344Z",
     "iopub.status.idle": "2023-10-04T12:46:27.806962Z",
     "shell.execute_reply": "2023-10-04T12:46:27.806089Z",
     "shell.execute_reply.started": "2023-10-04T12:46:27.449728Z"
    },
    "trusted": true
   },
   "outputs": [
    {
     "data": {
      "application/vnd.jupyter.widget-view+json": {
       "model_id": "ba17665397aa49558efeaaa90f6d184b",
       "version_major": 2,
       "version_minor": 0
      },
      "text/plain": [
       "VBox(children=(HTML(value='<center> <img\\nsrc=https://huggingface.co/front/assets/huggingface_logo-noborder.sv…"
      ]
     },
     "metadata": {},
     "output_type": "display_data"
    }
   ],
   "source": [
    "from huggingface_hub import notebook_login\n",
    "notebook_login()"
   ]
  },
  {
   "cell_type": "code",
   "execution_count": 3,
   "metadata": {
    "execution": {
     "iopub.execute_input": "2023-10-04T12:47:32.812816Z",
     "iopub.status.busy": "2023-10-04T12:47:32.812458Z",
     "iopub.status.idle": "2023-10-04T12:47:34.276218Z",
     "shell.execute_reply": "2023-10-04T12:47:34.275266Z",
     "shell.execute_reply.started": "2023-10-04T12:47:32.812790Z"
    },
    "trusted": true
   },
   "outputs": [],
   "source": [
    "from transformers import AutoModelForCausalLM, AutoTokenizer"
   ]
  },
  {
   "cell_type": "code",
   "execution_count": 7,
   "metadata": {
    "execution": {
     "iopub.execute_input": "2023-10-04T12:50:50.378836Z",
     "iopub.status.busy": "2023-10-04T12:50:50.378496Z",
     "iopub.status.idle": "2023-10-04T12:58:19.278534Z",
     "shell.execute_reply": "2023-10-04T12:58:19.277466Z",
     "shell.execute_reply.started": "2023-10-04T12:50:50.378809Z"
    },
    "trusted": true
   },
   "outputs": [
    {
     "data": {
      "application/vnd.jupyter.widget-view+json": {
       "model_id": "4461f0efb00447f08015efa53f0bce04",
       "version_major": 2,
       "version_minor": 0
      },
      "text/plain": [
       "Downloading model.safetensors:   0%|          | 0.00/5.59G [00:00<?, ?B/s]"
      ]
     },
     "metadata": {},
     "output_type": "display_data"
    },
    {
     "data": {
      "application/vnd.jupyter.widget-view+json": {
       "model_id": "418832e87e6c4faea542e403b8a42026",
       "version_major": 2,
       "version_minor": 0
      },
      "text/plain": [
       "Downloading (…)neration_config.json:   0%|          | 0.00/111 [00:00<?, ?B/s]"
      ]
     },
     "metadata": {},
     "output_type": "display_data"
    },
    {
     "data": {
      "text/plain": [
       "StableLMEpochForCausalLM(\n",
       "  (model): StableLMEpochModel(\n",
       "    (embed_tokens): Embedding(50304, 2560)\n",
       "    (layers): ModuleList(\n",
       "      (0-31): 32 x DecoderLayer(\n",
       "        (self_attn): Attention(\n",
       "          (q_proj): Linear(in_features=2560, out_features=2560, bias=False)\n",
       "          (k_proj): Linear(in_features=2560, out_features=2560, bias=False)\n",
       "          (v_proj): Linear(in_features=2560, out_features=2560, bias=False)\n",
       "          (o_proj): Linear(in_features=2560, out_features=2560, bias=False)\n",
       "          (rotary_emb): RotaryEmbedding()\n",
       "        )\n",
       "        (mlp): MLP(\n",
       "          (gate_proj): Linear(in_features=2560, out_features=6912, bias=False)\n",
       "          (up_proj): Linear(in_features=2560, out_features=6912, bias=False)\n",
       "          (down_proj): Linear(in_features=6912, out_features=2560, bias=False)\n",
       "          (act_fn): SiLU()\n",
       "        )\n",
       "        (input_layernorm): LayerNorm((2560,), eps=1e-05, elementwise_affine=True)\n",
       "        (post_attention_layernorm): LayerNorm((2560,), eps=1e-05, elementwise_affine=True)\n",
       "      )\n",
       "    )\n",
       "    (norm): LayerNorm((2560,), eps=1e-05, elementwise_affine=True)\n",
       "  )\n",
       "  (lm_head): Linear(in_features=2560, out_features=50304, bias=False)\n",
       ")"
      ]
     },
     "execution_count": 7,
     "metadata": {},
     "output_type": "execute_result"
    }
   ],
   "source": [
    "model_name = \"stabilityai/stablelm-3b-4e1t\"\n",
    "tokenizer = AutoTokenizer.from_pretrained(model_name)\n",
    "model = AutoModelForCausalLM.from_pretrained(\n",
    "  model_name,\n",
    "  trust_remote_code=True,\n",
    "  torch_dtype=\"auto\"\n",
    ")\n",
    "model.cuda()"
   ]
  },
  {
   "cell_type": "code",
   "execution_count": 8,
   "metadata": {
    "execution": {
     "iopub.execute_input": "2023-10-04T12:58:21.735765Z",
     "iopub.status.busy": "2023-10-04T12:58:21.734996Z",
     "iopub.status.idle": "2023-10-04T12:58:27.913635Z",
     "shell.execute_reply": "2023-10-04T12:58:27.912752Z",
     "shell.execute_reply.started": "2023-10-04T12:58:21.735733Z"
    },
    "trusted": true
   },
   "outputs": [
    {
     "name": "stderr",
     "output_type": "stream",
     "text": [
      "Setting `pad_token_id` to `eos_token_id`:0 for open-end generation.\n"
     ]
    },
    {
     "name": "stdout",
     "output_type": "stream",
     "text": [
      "Question: How do you import a csv file in Python \n",
      " Answer: import pandas as pd \n",
      "#dataframe = pd.read_csv('data/purchase_data.csv') \n",
      "data = pd.read_csv('data/purchase_data.csv')\n",
      "print(data.head())\n",
      "\n",
      "Question: How do you import a csv file in Python \n",
      " Answer: import pandas as pd \n",
      "#dataframe = pd.read_csv('data/purchase_data.csv') \n",
      "data = pd.read_csv('data/p\n"
     ]
    }
   ],
   "source": [
    "inputs = tokenizer(\n",
    "\"Question: How do you import a csv file in Python \\n Answer: import pandas as pd \",\n",
    "return_tensors=\"pt\"\n",
    ").to(\"cuda\")\n",
    "tokens = model.generate(\n",
    "    **inputs,\n",
    "    max_new_tokens = 100,\n",
    "    temperature = 0.75,\n",
    "    top_p = 0.95,\n",
    "    do_sample = True,\n",
    ")\n",
    "print(tokenizer.decode(tokens[0], skip_special_tokens=True))"
   ]
  },
  {
   "cell_type": "code",
   "execution_count": 9,
   "metadata": {
    "execution": {
     "iopub.execute_input": "2023-10-04T12:58:27.915884Z",
     "iopub.status.busy": "2023-10-04T12:58:27.915228Z",
     "iopub.status.idle": "2023-10-04T12:58:30.977415Z",
     "shell.execute_reply": "2023-10-04T12:58:30.976345Z",
     "shell.execute_reply.started": "2023-10-04T12:58:27.915850Z"
    },
    "trusted": true
   },
   "outputs": [
    {
     "name": "stderr",
     "output_type": "stream",
     "text": [
      "Setting `pad_token_id` to `eos_token_id`:0 for open-end generation.\n"
     ]
    },
    {
     "name": "stdout",
     "output_type": "stream",
     "text": [
      "This is a great tweet with hashtags about a new product launch of Stable LM, a new text generation AI. Here goes the tweet: \n",
      "\n",
      "Stable LM is a new text generation AI, and we're releasing a special edition of the first 5,000 words generated by this system for free. It's a story about an AI that learns to create better text, and you can read it here: https://twitter.com/stable_lm/status/1161448256064125041\n",
      "\n",
      "Here is the link: https://twitter.com/stable_lm/status/116144825606412\n"
     ]
    }
   ],
   "source": [
    "inputs = tokenizer(\n",
    "\"This is a great tweet with hashtags about a new product launch of Stable LM, a new text generation AI. Here goes the tweet: \\n\",\n",
    "return_tensors=\"pt\"\n",
    ").to(\"cuda\")\n",
    "tokens = model.generate(\n",
    "    **inputs,\n",
    "    max_new_tokens = 100,\n",
    "    temperature = 0.75,\n",
    "    top_p = 0.95,\n",
    "    do_sample = True,\n",
    ")\n",
    "print(tokenizer.decode(tokens[0], skip_special_tokens=True))"
   ]
  }
 ],
 "metadata": {
  "kernelspec": {
   "display_name": "Python 3",
   "language": "python",
   "name": "python3"
  },
  "language_info": {
   "codemirror_mode": {
    "name": "ipython",
    "version": 3
   },
   "file_extension": ".py",
   "mimetype": "text/x-python",
   "name": "python",
   "nbconvert_exporter": "python",
   "pygments_lexer": "ipython3",
   "version": "3.10.12"
  }
 },
 "nbformat": 4,
 "nbformat_minor": 4
}
